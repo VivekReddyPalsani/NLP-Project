{
 "cells": [
  {
   "cell_type": "code",
   "execution_count": 1,
   "metadata": {},
   "outputs": [
    {
     "name": "stdout",
     "output_type": "stream",
     "text": [
      "Requirement already satisfied: PyDictionary in /Users/vivekreddypalsani/anaconda3/lib/python3.11/site-packages (2.0.1)\n",
      "Requirement already satisfied: bs4 in /Users/vivekreddypalsani/anaconda3/lib/python3.11/site-packages (from PyDictionary) (0.0.2)\n",
      "Requirement already satisfied: click in /Users/vivekreddypalsani/anaconda3/lib/python3.11/site-packages (from PyDictionary) (8.1.7)\n",
      "Requirement already satisfied: goslate in /Users/vivekreddypalsani/anaconda3/lib/python3.11/site-packages (from PyDictionary) (1.5.4)\n",
      "Requirement already satisfied: requests in /Users/vivekreddypalsani/anaconda3/lib/python3.11/site-packages (from PyDictionary) (2.32.3)\n",
      "Requirement already satisfied: beautifulsoup4 in /Users/vivekreddypalsani/anaconda3/lib/python3.11/site-packages (from bs4->PyDictionary) (4.12.3)\n",
      "Requirement already satisfied: futures in /Users/vivekreddypalsani/anaconda3/lib/python3.11/site-packages (from goslate->PyDictionary) (3.0.5)\n",
      "Requirement already satisfied: charset-normalizer<4,>=2 in /Users/vivekreddypalsani/anaconda3/lib/python3.11/site-packages (from requests->PyDictionary) (3.3.2)\n",
      "Requirement already satisfied: idna<4,>=2.5 in /Users/vivekreddypalsani/anaconda3/lib/python3.11/site-packages (from requests->PyDictionary) (3.7)\n",
      "Requirement already satisfied: urllib3<3,>=1.21.1 in /Users/vivekreddypalsani/anaconda3/lib/python3.11/site-packages (from requests->PyDictionary) (2.2.2)\n",
      "Requirement already satisfied: certifi>=2017.4.17 in /Users/vivekreddypalsani/anaconda3/lib/python3.11/site-packages (from requests->PyDictionary) (2024.7.4)\n",
      "Requirement already satisfied: soupsieve>1.2 in /Users/vivekreddypalsani/anaconda3/lib/python3.11/site-packages (from beautifulsoup4->bs4->PyDictionary) (2.5)\n"
     ]
    }
   ],
   "source": [
    "!pip install PyDictionary"
   ]
  },
  {
   "cell_type": "code",
   "execution_count": 2,
   "metadata": {},
   "outputs": [],
   "source": [
    "import pandas as pd\n",
    "import re\n",
    "from nltk.corpus import stopwords, wordnet\n",
    "from nltk.tokenize import word_tokenize"
   ]
  },
  {
   "cell_type": "code",
   "execution_count": 6,
   "metadata": {},
   "outputs": [],
   "source": [
    "file_path = '/Users/vivekreddypalsani/Downloads/WordDifficulty.csv'\n",
    "df = pd.read_csv(file_path)\n"
   ]
  },
  {
   "cell_type": "code",
   "execution_count": 7,
   "metadata": {},
   "outputs": [],
   "source": [
    "stop_words = set(stopwords.words(\"english\"))"
   ]
  },
  {
   "cell_type": "code",
   "execution_count": 8,
   "metadata": {},
   "outputs": [],
   "source": [
    "easy_words = df[(df['I_Mean_Accuracy'] > 0.7) & (df['I_Mean_RT'] < 700)]['Word'].str.lower().tolist()\n",
    "medium_words = df[((df['I_Mean_Accuracy'] >= 0.5) & (df['I_Mean_Accuracy'] <= 0.7)) |\n",
    "                  ((df['I_Mean_RT'] >= 700) & (df['I_Mean_RT'] <= 900))]['Word'].str.lower().tolist()\n",
    "difficult_words = df[(df['I_Mean_Accuracy'] < 0.5) | (df['I_Mean_RT'] > 900)]['Word'].str.lower().tolist()"
   ]
  },
  {
   "cell_type": "code",
   "execution_count": null,
   "metadata": {},
   "outputs": [],
   "source": [
    "def get_word_meaning_with_pos(word):\n",
    "    synsets = wordnet.synsets(word)\n",
    "    if synsets:\n",
    "        meanings_with_pos = []\n",
    "        for syn in synsets[:3]:  \n",
    "            pos = syn.pos()    \n",
    "            definition = syn.definition()\n",
    "            meanings_with_pos.append((pos, definition))\n",
    "        return meanings_with_pos\n",
    "    else:\n",
    "        return [(\"N/A\", \"Meaning not found\")]\n",
    "\n",
    "def display_words_from_text(text, difficulty_level):\n",
    "    tokens = word_tokenize(text.lower())\n",
    "    words = set(word for word in tokens if word.isalpha() and word not in stop_words)\n",
    "    \n",
    "    if difficulty_level == 1:\n",
    "        selected_words = [word for word in words if word in easy_words]\n",
    "    elif difficulty_level == 2:\n",
    "        selected_words = [word for word in words if word in medium_words]\n",
    "    elif difficulty_level == 3:\n",
    "        selected_words = [word for word in words if word in difficult_words]\n",
    "    else:\n",
    "        print(\"Invalid difficulty level entered.\")\n",
    "        return\n",
    "    \n",
    "    non_listed_words = [word for word in words if word not in easy_words + medium_words + difficult_words]\n",
    "    \n",
    "    print(f\"\\nWords and Meanings for Difficulty Level {difficulty_level}:\")\n",
    "    for word in selected_words + non_listed_words:\n",
    "        meanings = get_word_meaning_with_pos(word)\n",
    "        print(f\"{word.capitalize()}:\")\n",
    "        for pos, meaning in meanings:\n",
    "            print(f\"  ({pos}) {meaning}\")\n",
    "        print() \n"
   ]
  },
  {
   "cell_type": "code",
   "execution_count": 16,
   "metadata": {},
   "outputs": [
    {
     "name": "stdout",
     "output_type": "stream",
     "text": [
      "\n",
      "Words and Meanings for Difficulty Level 3:\n",
      "Inadvertently:\n",
      "  (r) without knowledge or intention\n",
      "\n",
      "Deciphering:\n",
      "  (v) convert code into ordinary language\n",
      "  (v) read with difficulty\n",
      "\n",
      "Cryptographer:\n",
      "  (n) decoder skilled in the analysis of codes and cryptograms\n",
      "\n"
     ]
    }
   ],
   "source": [
    "text_input = \"The enigmatic cryptographer, deciphering the elusive code, inadvertently revealed the long-lost secret, altering the course of history.\"\n",
    "difficulty_level = 3  # Use 1 for easy, 2 for medium, and 3 for difficult words\n",
    "display_words_from_text(text_input, difficulty_level)"
   ]
  },
  {
   "cell_type": "code",
   "execution_count": 17,
   "metadata": {},
   "outputs": [
    {
     "name": "stdout",
     "output_type": "stream",
     "text": [
      "\n",
      "Words and Meanings for Difficulty Level 2:\n",
      "Enigmatic:\n",
      "  (s) not clear to the understanding\n",
      "  (s) resembling an oracle in obscurity of thought\n",
      "\n",
      "Altering:\n",
      "  (n) the sterilization of an animal\n",
      "  (v) cause to change; make different; cause a transformation\n",
      "  (v) become different in some particular way, without permanently losing one's or its former characteristics or essence\n",
      "\n",
      "Inadvertently:\n",
      "  (r) without knowledge or intention\n",
      "\n",
      "Deciphering:\n",
      "  (v) convert code into ordinary language\n",
      "  (v) read with difficulty\n",
      "\n",
      "Cryptographer:\n",
      "  (n) decoder skilled in the analysis of codes and cryptograms\n",
      "\n"
     ]
    }
   ],
   "source": [
    "text_input = \"The enigmatic cryptographer, deciphering the elusive code, inadvertently revealed the long-lost secret, altering the course of history.\"\n",
    "difficulty_level = 2  # Use 1 for easy, 2 for medium, and 3 for difficult words\n",
    "display_words_from_text(text_input, difficulty_level)"
   ]
  },
  {
   "cell_type": "code",
   "execution_count": 18,
   "metadata": {},
   "outputs": [
    {
     "name": "stdout",
     "output_type": "stream",
     "text": [
      "\n",
      "Words and Meanings for Difficulty Level 1:\n",
      "Course:\n",
      "  (n) education imparted in a series of lessons or meetings\n",
      "  (n) a connected series of events or actions or developments\n",
      "  (n) general line of orientation\n",
      "\n",
      "Revealed:\n",
      "  (v) make visible\n",
      "  (v) make known to the public information that was previously known only to a few people or that was meant to be kept a secret\n",
      "  (v) disclose directly or through prophets\n",
      "\n",
      "Code:\n",
      "  (n) a set of rules or principles or laws (especially written ones)\n",
      "  (n) a coding system used for transmitting messages requiring brevity or secrecy\n",
      "  (n) (computer science) the symbolic arrangement of data or instructions in a computer program or the set of such instructions\n",
      "\n",
      "History:\n",
      "  (n) the aggregate of past events\n",
      "  (n) a record or narrative description of past events\n",
      "  (n) the discipline that records and interprets past events involving human beings\n",
      "\n",
      "Elusive:\n",
      "  (s) difficult to describe\n",
      "  (s) skillful at eluding capture; - David Kline\n",
      "  (s) difficult to detect or grasp by the mind or analyze\n",
      "\n",
      "Secret:\n",
      "  (n) something that should remain hidden from others (especially information that is not to be passed on)\n",
      "  (n) information known only to a special group\n",
      "  (n) something that baffles understanding and cannot be explained\n",
      "\n",
      "Inadvertently:\n",
      "  (r) without knowledge or intention\n",
      "\n",
      "Deciphering:\n",
      "  (v) convert code into ordinary language\n",
      "  (v) read with difficulty\n",
      "\n",
      "Cryptographer:\n",
      "  (n) decoder skilled in the analysis of codes and cryptograms\n",
      "\n"
     ]
    }
   ],
   "source": [
    "text_input = \"The enigmatic cryptographer, deciphering the elusive code, inadvertently revealed the long-lost secret, altering the course of history.\"\n",
    "difficulty_level = 1  # Use 1 for easy, 2 for medium, and 3 for difficult words\n",
    "display_words_from_text(text_input, difficulty_level)"
   ]
  },
  {
   "cell_type": "code",
   "execution_count": null,
   "metadata": {},
   "outputs": [],
   "source": []
  }
 ],
 "metadata": {
  "kernelspec": {
   "display_name": "base",
   "language": "python",
   "name": "python3"
  },
  "language_info": {
   "codemirror_mode": {
    "name": "ipython",
    "version": 3
   },
   "file_extension": ".py",
   "mimetype": "text/x-python",
   "name": "python",
   "nbconvert_exporter": "python",
   "pygments_lexer": "ipython3",
   "version": "3.11.4"
  }
 },
 "nbformat": 4,
 "nbformat_minor": 2
}
